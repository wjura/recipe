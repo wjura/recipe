{
 "cells": [
  {
   "cell_type": "code",
   "execution_count": 1,
   "id": "3fce5c5a",
   "metadata": {
    "deletable": false,
    "editable": false
   },
   "outputs": [],
   "source": [
    "# Initialize Otter\n",
    "import otter\n",
    "grader = otter.Notebook(\"assignment_03.ipynb\")"
   ]
  },
  {
   "cell_type": "markdown",
   "id": "24c0a816",
   "metadata": {},
   "source": [
    "# Recording your favorite recipe with Git & GitHub\n",
    "\n",
    "In this assignment, you will apply your knowledge of Git and GitHub by creating a recipe project on GitHub.com. The assignment focuses on using terminal-based commands for greater versatility and flexibility in executing Git commands. You will be asked questions to assess your understanding of efficient version control.\n",
    "\n",
    "Here is a visual representation what we going to achieve during the assignment:\n",
    "\n",
    "<img src=\"images/Picture1.png\" width=80% >\n"
   ]
  },
  {
   "cell_type": "markdown",
   "id": "1cb517d0",
   "metadata": {},
   "source": [
    "1. In Part I,  you will create your GitHub account practice how to create and clone the **remote repository** (i.e., repository that you create on GitHub) to your local machine (**local repository**). \n",
    "2. In Part II, you will learn the how to use git version control on your local machine and how to send all the changes to your remote repo (repo is a short form of repository)\n",
    "3. In Part III, you will learn how to create and modify files on GitHub.com and bring all the changes to your local machine\n",
    "4. Finally, in Part IV, you will practice using JupyterLab IDE to perform a git version control"
   ]
  },
  {
   "cell_type": "markdown",
   "id": "d91469a5",
   "metadata": {},
   "source": [
    "<!-- BEGIN QUESTION -->\n",
    "\n",
    "<div class=\"alert alert-info\">\n",
    "\n",
    "## Submission instructions\n",
    "\n",
    "<p>You receive marks for submitting your lab correctly, please follow these instructions:</p>\n",
    "\n",
    "<ul>\n",
    "  <!-- <li>Make at least three commits.</li>-->\n",
    "  <li>Export to HTML via <code>File -> Save and export notebook as... -> HTML</code> and upload the HTML file to Canvas.</li>\n",
    "    <ul>\n",
    "      <li>Before submitting, make sure you restart the kernel and rerun all cells.</li>\n",
    "    </ul>\n",
    "  <li>Don't change any variable names that are given to you, don't move cells around, and don't include any code to install packages in the notebook.</li>\n",
    "  </li>\n",
    "</ul>\n",
    "</div>\n",
    "\n",
    "_Points:_ 1"
   ]
  },
  {
   "cell_type": "markdown",
   "id": "d8ad2dfb",
   "metadata": {},
   "source": [
    "<!-- END QUESTION -->\n",
    "\n",
    "## Warm Up"
   ]
  },
  {
   "cell_type": "markdown",
   "id": "55b0d7ed",
   "metadata": {},
   "source": [
    "<div class=\"alert alert-info\">\n",
    "    \n",
    "### Question 0\n",
    "\n",
    "Before we start, let's match some of the new terms we have learned through this chapter with a related concept/word. Be careful since there is one extra word!\n",
    "    <table>\n",
    "<tr>\n",
    "    <td> <b>Definitions:</b></td>\n",
    "<td> <b>Match the terms on the left with the definitions from the list below:</b></td>\n",
    "</tr>\n",
    "<tr>\n",
    "<td> \n",
    "    \n",
    "1. Git repository\n",
    "2. Git\n",
    "3. remote repository\n",
    "4. local repository\n",
    "5. remote\n",
    "6. Update the local repository\n",
    "    \n",
    "</td>\n",
    "<td> \n",
    "        \n",
    "A. `.git` folder   \n",
    "B. repository on local machine   \n",
    "C. an online Git repository, e.g. on GitHub  \n",
    "D. a version control software  \n",
    "E. `git pull`   \n",
    "F. repository on GitHub.com  \n",
    "G. commit message  \n",
    "    \n",
    "</td>\n",
    "</tr>\n",
    "</table>\n",
    " \n",
    "</div>\n",
    " \n",
    "\n",
    "_Points:_ 1"
   ]
  },
  {
   "cell_type": "code",
   "execution_count": 2,
   "id": "66b6d45d",
   "metadata": {
    "tags": []
   },
   "outputs": [],
   "source": [
    "# Your response should be a sequence of 10 letters, in the order of the corresponding answer, e.g. 'ABCCDF'\n",
    "q0 = \"ADFBCE\"\n"
   ]
  },
  {
   "cell_type": "code",
   "execution_count": 3,
   "id": "fa54f6a1",
   "metadata": {
    "deletable": false,
    "editable": false
   },
   "outputs": [
    {
     "data": {
      "text/html": [
       "<p><strong><pre style='display: inline;'>q0</pre></strong> passed! 🎉</p>"
      ],
      "text/plain": [
       "q0 results: All test cases passed!"
      ]
     },
     "execution_count": 3,
     "metadata": {},
     "output_type": "execute_result"
    }
   ],
   "source": [
    "grader.check(\"q0\")"
   ]
  },
  {
   "cell_type": "markdown",
   "id": "98f10940",
   "metadata": {},
   "source": [
    "# Part I. Setting up GitHub\n",
    "\n",
    "## Step 1a. Generating a GitHub personal access token\n",
    "\n",
    "1. If you do not already have a free GitHub.com account, visit GitHub.com (http://github.com/) and signup for one. **Please make sure you keep a note of your github username and password that you used to create your account**.\n",
    "\n",
    "2. To access a remote repository on GitHub, you need to authenticate using either HTTPS or SSH. For beginners, HTTPS is recommended as it requires less setup and requires a personal access token. Treat the token like a password and keep it confidential. It gives finer control over access to your account and can have an expiration date. <br> <br> To create a personal access token, go to 'Personal access tokens' in your GitHub account settings at https://github.com/settings/tokens and click 'Generate new token' (in a dropdown menu select Generate new token (classic)). You will be asked to enter your password.\n",
    "<details><summary><b>Hint:</b></summary>\n",
    "<img src=\"images/Picture4.png\" width=100% >\n",
    "</details>\n",
    "\n",
    "\n",
    "3. Add a note `ds-toolbox` to describe the purpose for your personal access token and set an expiration date to `90 days`. Then select required permissions on the Personal access tokens page in your GitHub account settings. We only need the repository permission (`repo`), then the token is generated by clicking the \"Generate token\" button at the bottom of the page.\n",
    "<details><summary><b>Hint:</b></summary>\n",
    "<img src=\"images/Picture5.png\" width=80% >\n",
    "</details>\n",
    "\n",
    "\n",
    "4. Finally, you'll be shown the personal access token you generated. Copy the token and save it in a secure location on your computer.<br> <br>**Note that this page will only display the token to you once, so save your token right away**. If you forget, you can delete the token and generate a new one.\n",
    "<details><summary><b>Hint:</b></summary>\n",
    "<img src=\"images/Picture6.png\" width=100% >\n",
    "</details>\n",
    "\n",
    "\n"
   ]
  },
  {
   "cell_type": "markdown",
   "id": "cee9eb2d",
   "metadata": {},
   "source": [
    "-----\n",
    "\n",
    "## Step 1b. Create remote repository\n",
    "\n",
    "1. Next, let's set up our first **remote repository** on GitHub. Once you sign up into your account, create a new repository as you have learned in this module.\n",
    "<details><summary><b>Hint:</b></summary>\n",
    "To create a repository we click the plus button (top right corner) and select “New repository” (one of the methods).<br>\n",
    "<img src=\"images/Picture2.png\" width=20% >\n",
    "</details>\n",
    "<br>\n",
    "2. Name your repository `recipe`. Make your repository `Public`. Select in section \"Initialize this repository with:\" `Add a README file` and click `Create repository` button.\n",
    "<details><summary><b>Hint:</b></summary>\n",
    "<img src=\"images/Picture3.png\" width=70% >\n",
    "</details>\n",
    "<br>\n",
    "3. Once you click the button `Create repository`, you will see a page similar to the one below:\n",
    "<img src=\"images/Picture7.png\" width=90% >\n",
    "\n",
    "\n"
   ]
  },
  {
   "cell_type": "markdown",
   "id": "3b9860ef",
   "metadata": {},
   "source": [
    "-----\n",
    "\n",
    "## Step 1c. Clone your remote repository\n",
    "In some cases, you start with folders on GitHub.com and you want to have it on your computer. Or imagine you accidentally deleted your folder on your computer (but hopefully you have all the changes pushed to the Github.com)\n",
    "\n",
    "<img src=\"images/Picture16.png\" width=25% >\n",
    "</br>\n",
    "\n",
    "Getting your git repository to your computer is super fast and easy with GitHub! We call this process **clonning a repository** and can be done with a single command. \n",
    "\n",
    "1. But first copy the URL from the HTTPS tab under the Code menu on GitHub. You can find it if you go to your Github.com `recipe` repository and click the \"Code\" button.\n",
    "<details><summary><b>Hint:</b></summary>\n",
    "<img src=\"images/Picture8.png\" width=90% >\n",
    "</details><br>\n",
    "\n",
    "2. So once you get this URL link (the link looks something like this: `https://github.com/YOUR-USER-NAME/recipe.git`), open a terminal, and navigate to any directory (e.g., Desktop or Documents or any other folder) where you want to keep materials for this module. \n",
    "<details><summary><b>Hint:</b></summary>\n",
    "Navigate to any directory: means that you need to use <code>cd</code> command to set a current working directory. <br>This will be a location where you will \"copy\" the <code>recipe</code> folder. <br>For example, if I want to clone <code>recipe</code> folder to my Desktop, I will use command <code>cd OneDrive/Desktop</code>\n",
    "</details><br>\n",
    "\n",
    "3. To clone a repository all you need to type the following command into the terminal:\n",
    "`git clone https://github.com/YOUR-USER-NAME/recipe.git`"
   ]
  },
  {
   "cell_type": "markdown",
   "id": "f5e7b0c0",
   "metadata": {},
   "source": [
    "<div class=\"alert alert-info\">\n",
    "    \n",
    "### Question 1\n",
    "    \n",
    "After cloning a repository, explore the content of your folder now. Is there anything (including hidden files) in your repository? \n",
    "    Select all that applies.\n",
    "    \n",
    "A) the cloned folder is empty.  \n",
    "B) `.git/`  \n",
    "C) `README.md`  \n",
    "\n",
    "\n",
    "</div>\n",
    "\n",
    "_Points:_ 1"
   ]
  },
  {
   "cell_type": "code",
   "execution_count": 4,
   "id": "2668b925",
   "metadata": {
    "tags": []
   },
   "outputs": [],
   "source": [
    "# Your answer should be a string with all the letters of the options you think are correct, e.g. 'AB'\n",
    "q1 = \"BC\""
   ]
  },
  {
   "cell_type": "code",
   "execution_count": 5,
   "id": "9b6edc9b",
   "metadata": {
    "deletable": false,
    "editable": false
   },
   "outputs": [
    {
     "data": {
      "text/html": [
       "<p><strong><pre style='display: inline;'>q1</pre></strong> passed! ✨</p>"
      ],
      "text/plain": [
       "q1 results: All test cases passed!"
      ]
     },
     "execution_count": 5,
     "metadata": {},
     "output_type": "execute_result"
    }
   ],
   "source": [
    "grader.check(\"q1\")"
   ]
  },
  {
   "cell_type": "markdown",
   "id": "e610740f",
   "metadata": {},
   "source": [
    "That’s it! You now have cloned your `recipe` repository from GitHub to your computer! 😎"
   ]
  },
  {
   "cell_type": "markdown",
   "id": "c48865a1",
   "metadata": {},
   "source": [
    "\n",
    "-----\n",
    "\n",
    "# Part II. From your PC to Web\n",
    "\n",
    "## Step 2. Checking repo status\n",
    "\n",
    "Let’s now check what is going on in a repository using the `git status`.  Note this is a very safe command to run as it does not change anything in your directory and is very handy if you are not sure what to do next.\n"
   ]
  },
  {
   "cell_type": "markdown",
   "id": "fdbf0fca",
   "metadata": {},
   "source": [
    "<div class=\"alert alert-info\">\n",
    "    \n",
    "### Question 2\n",
    "    \n",
    "Which lines you see in an output of `git status`?\n",
    "\n",
    "A) `On branch main`  \n",
    "B) `Your branch is up to date with 'origin/main'.`  \n",
    "C) `nothing to commit, working tree clean`  \n",
    "D) `No commits yet`  \n",
    "E) `nothing to commit (create/copy files and use \"git add\" to track)`  \n",
    "F) `Untracked files:`   \n",
    "G) `nothing added to commit but untracked files present (use \"git add\" to track)`    \n",
    "\n",
    "</div>\n",
    "\n",
    "_Points:_ 1"
   ]
  },
  {
   "cell_type": "code",
   "execution_count": 6,
   "id": "29539b01",
   "metadata": {
    "tags": []
   },
   "outputs": [],
   "source": [
    "# Your answer should be a string with all the letters of the options you think are correct, e.g. 'AB'\n",
    "q2 = \"ABC\""
   ]
  },
  {
   "cell_type": "code",
   "execution_count": 7,
   "id": "7d58b190",
   "metadata": {
    "deletable": false,
    "editable": false
   },
   "outputs": [
    {
     "data": {
      "text/html": [
       "<p><strong><pre style='display: inline;'>q2</pre></strong> passed! ✨</p>"
      ],
      "text/plain": [
       "q2 results: All test cases passed!"
      ]
     },
     "execution_count": 7,
     "metadata": {},
     "output_type": "execute_result"
    }
   ],
   "source": [
    "grader.check(\"q2\")"
   ]
  },
  {
   "cell_type": "markdown",
   "id": "83a8252e",
   "metadata": {},
   "source": [
    "\n",
    "-----\n",
    "\n",
    "## Step 3. Changing files\n",
    "\n",
    "Let’s now create a txt file called `instructions.txt` and populate it with the step-by-step instructions of your favourite recipe, then save the file. \n",
    "\n",
    "*Note: Please remember to cite your sources properly if you borrow content from other sources.*\n",
    "\n"
   ]
  },
  {
   "cell_type": "markdown",
   "id": "0f6ff37b",
   "metadata": {},
   "source": [
    "<div class=\"alert alert-info\">\n",
    "    \n",
    "### Question 3a \n",
    "\n",
    "What command you can use to create and edit new file?\n",
    "\n",
    "A) `mkdir instructions.txt`   \n",
    "B) `head instructions.txt`   \n",
    "C) `code instructions.txt`  \n",
    "D) `create instructions.txt`   \n",
    "E) `cd instructions.txt`   \n",
    "\n",
    "</div>\n",
    "\n",
    "_Points:_ 1"
   ]
  },
  {
   "cell_type": "code",
   "execution_count": 8,
   "id": "9fd8acb2",
   "metadata": {
    "tags": []
   },
   "outputs": [],
   "source": [
    "# Your answer should be a string with all the letters of the options you think are correct, e.g. 'AB'\n",
    "q3a = \"C\""
   ]
  },
  {
   "cell_type": "code",
   "execution_count": 9,
   "id": "683125d8",
   "metadata": {
    "deletable": false,
    "editable": false
   },
   "outputs": [
    {
     "data": {
      "text/html": [
       "<p><strong><pre style='display: inline;'>q3a</pre></strong> passed! 🙌</p>"
      ],
      "text/plain": [
       "q3a results: All test cases passed!"
      ]
     },
     "execution_count": 9,
     "metadata": {},
     "output_type": "execute_result"
    }
   ],
   "source": [
    "grader.check(\"q3a\")"
   ]
  },
  {
   "cell_type": "markdown",
   "id": "c2d284ff",
   "metadata": {},
   "source": [
    "<div class=\"alert alert-info\">\n",
    "    \n",
    "### Question 3b\n",
    "\n",
    "After you created the `instructions.txt`, let's check again the status of files in your repository using `git status`. \n",
    "\n",
    "What is an output of `git status`?\n",
    "\n",
    "A)\t`On branch main`  \n",
    "B) `Your branch is up to date with 'origin/main'.`  \n",
    "C)\t`No commits yet`  \n",
    "D)\t`nothing to commit (create/copy files and use \"git add\" to track)`  \n",
    "E)\t```Untracked files:```  \n",
    "    ```(use \"git add <file>...\" to include in what will be committed)```  \n",
    "     ```instructions.txt```   \n",
    "F)\t`nothing added to commit but untracked files present (use \"git add\" to track)`  \n",
    "\n",
    "</div>\n",
    "\n",
    "\n",
    "_Points:_ 1"
   ]
  },
  {
   "cell_type": "code",
   "execution_count": 10,
   "id": "c0f73a9e",
   "metadata": {
    "tags": []
   },
   "outputs": [],
   "source": [
    "# Your answer should be a string with all the letters of the options you think are correct, e.g. 'AB'\n",
    "q3b = \"ABEF\""
   ]
  },
  {
   "cell_type": "code",
   "execution_count": 11,
   "id": "182abea1",
   "metadata": {
    "deletable": false,
    "editable": false
   },
   "outputs": [
    {
     "data": {
      "text/html": [
       "<p><strong><pre style='display: inline;'>q3b</pre></strong> passed! 🚀</p>"
      ],
      "text/plain": [
       "q3b results: All test cases passed!"
      ]
     },
     "execution_count": 11,
     "metadata": {},
     "output_type": "execute_result"
    }
   ],
   "source": [
    "grader.check(\"q3b\")"
   ]
  },
  {
   "cell_type": "markdown",
   "id": "9f819864",
   "metadata": {},
   "source": [
    "-----\n",
    "\n",
    "## Step 4.  Commiting the changes\n",
    "\n",
    "Git does not track any files automatically (i.e., changes made to the files will not be recorded by Git until you explicitly tell Git to track those files) and you need make a conscious decision when you want to do it. Recall that in Git we always record changes in two steps. We first stage (“focus”) the changes (using `git add`) and then we commit (“shoot”) the changes to git (using `git commit`):\n",
    "\n",
    "<img src=\"images/Picture9.png\" width=90% >\n",
    "\n",
    "Figure above illustrates the process of making changes and keeping track of those changes using git version control.\n",
    "So why do we need even need to stage? Staging changes in Git allows you to selectively add changes to your repository, before you commit them. This gives you more control over what changes are included in each commit and helps you keep your commit history organized.\n",
    "\n",
    "\n",
    "\n",
    "\n"
   ]
  },
  {
   "cell_type": "markdown",
   "id": "a8da0a43",
   "metadata": {},
   "source": [
    "<div class=\"alert alert-info\">\n",
    "    \n",
    "### Question 4a\n",
    "\n",
    "Since we have an untracked file in the repository (directory), let's **stage** the files and check the status of the files in git folder. \n",
    "    \n",
    "What is an output of `git status` after staging?\n",
    "\n",
    "<details><summary><b>Hint:</b></summary>\n",
    "First run <code>git add instructions.txt</code> and then type <code>git status</code>. \n",
    "</details>\n",
    "</br>\n",
    "\n",
    "A)\t`On branch main`  \n",
    "B) `Your branch is up to date with 'origin/main'.`  \n",
    "C)\t`No commits yet`  \n",
    "D)\t`nothing to commit (create/copy files and use \"git add\" to track)`  \n",
    "E)\t`Changes to be committed:`  \n",
    "  `(use \"git restore --staged <file>...\" to unstage)`  \n",
    "       `new file:   instructions.txt`  \n",
    "F)\t`nothing added to commit but untracked files present (use \"git add\" to track)`  \n",
    "\n",
    "</div>\n",
    "\n",
    "_Points:_ 1"
   ]
  },
  {
   "cell_type": "code",
   "execution_count": 12,
   "id": "2c5e853b",
   "metadata": {
    "tags": []
   },
   "outputs": [],
   "source": [
    "# Your answer should be a string with all the letters of the options you think are correct, e.g. 'AB'\n",
    "q4a = \"ABE\""
   ]
  },
  {
   "cell_type": "code",
   "execution_count": 13,
   "id": "27d5e99f",
   "metadata": {
    "deletable": false,
    "editable": false
   },
   "outputs": [
    {
     "data": {
      "text/html": [
       "<p><strong><pre style='display: inline;'>q4a</pre></strong> passed! 💯</p>"
      ],
      "text/plain": [
       "q4a results: All test cases passed!"
      ]
     },
     "execution_count": 13,
     "metadata": {},
     "output_type": "execute_result"
    }
   ],
   "source": [
    "grader.check(\"q4a\")"
   ]
  },
  {
   "cell_type": "markdown",
   "id": "84fdec7d",
   "metadata": {},
   "source": [
    "<div class=\"alert alert-info\">\n",
    "    \n",
    "### Question 4b \n",
    "\n",
    "Once staged, let’s commit the files to git. \n",
    "\n",
    "Add the following message in your commit message: `\"Add instructions for my favourite recipe\"`. \n",
    "\n",
    "What is an output of `git status` after committing?\n",
    "\n",
    "<details><summary><b>Hint:</b></summary>\n",
    "First run <code>git commit -m \"Add instructions for my favourite recipe\"</code> and then type <code>git status</code>. \n",
    "</details>\n",
    "</br>\n",
    "\n",
    "\n",
    "A)\t`nothing to commit (create/copy files and use \"git add\" to track)`  \n",
    "B)\t`Changes to be committed:`  \n",
    "C)\t`nothing added to commit but untracked files present (use \"git add\" to track)`  \n",
    "D)\t`On branch main`  \n",
    "E) `Your branch is ahead of 'origin/main' by 1 commit.`  \n",
    "  `(use \"git push\" to publish your local commits)`  \n",
    "F)\t`No commits yet`  \n",
    "G) `nothing to commit, working tree clean`   \n",
    "\n",
    "</div>\n",
    "\n",
    "_Points:_ 1"
   ]
  },
  {
   "cell_type": "code",
   "execution_count": 14,
   "id": "54b7db03",
   "metadata": {
    "tags": []
   },
   "outputs": [],
   "source": [
    "# Your answer should be a string with all the letters of the options you think are correct, e.g. 'AB'\n",
    "q4b = \"DEG\""
   ]
  },
  {
   "cell_type": "code",
   "execution_count": 15,
   "id": "90937917",
   "metadata": {
    "deletable": false,
    "editable": false
   },
   "outputs": [
    {
     "data": {
      "text/html": [
       "<p><strong><pre style='display: inline;'>q4b</pre></strong> passed! ✨</p>"
      ],
      "text/plain": [
       "q4b results: All test cases passed!"
      ]
     },
     "execution_count": 15,
     "metadata": {},
     "output_type": "execute_result"
    }
   ],
   "source": [
    "grader.check(\"q4b\")"
   ]
  },
  {
   "cell_type": "markdown",
   "id": "59c9613e",
   "metadata": {},
   "source": [
    "<div class=\"alert alert-info\">\n",
    "    \n",
    "### Question 4c \n",
    "\n",
    "Go to your GitHub.com `recipe` repository.  \n",
    "\n",
    "Did the changes you made in your `instructions.txt` file automatically appear in your GitHub.com `recipe` folder?\n",
    "<details><summary><b>Hint:</b></summary>\n",
    "Refresh the page with your recipe folder on GitHub.com. Check whether you see <code>instructions.txt</code> appear on the page (below <code>README.md</code>)\n",
    "</details>\n",
    "</br>\n",
    "\n",
    "A) Yes, the changes are automatically updated in remote repository       \n",
    "B) No, the changes I made locally do not appear in remote (GitHub) repository  \n",
    "\n",
    "</div>\n",
    "\n",
    "_Points:_ 1"
   ]
  },
  {
   "cell_type": "code",
   "execution_count": 16,
   "id": "c1d95484",
   "metadata": {
    "tags": []
   },
   "outputs": [],
   "source": [
    "# Your answer should be a string with all the letters of the options you think are correct, e.g. 'AB'\n",
    "q4c = \"B\""
   ]
  },
  {
   "cell_type": "code",
   "execution_count": 17,
   "id": "fe8b1231",
   "metadata": {
    "deletable": false,
    "editable": false
   },
   "outputs": [
    {
     "data": {
      "text/html": [
       "<p><strong><pre style='display: inline;'>q4c</pre></strong> passed! ✨</p>"
      ],
      "text/plain": [
       "q4c results: All test cases passed!"
      ]
     },
     "execution_count": 17,
     "metadata": {},
     "output_type": "execute_result"
    }
   ],
   "source": [
    "grader.check(\"q4c\")"
   ]
  },
  {
   "cell_type": "markdown",
   "id": "6e02e630",
   "metadata": {},
   "source": [
    "-----\n",
    "\n",
    "## Step 5. Pushing changes to Github.com\n",
    "\n",
    "So how do we send the changes we did locally (on your computer) to a remote repository (the `recipe` directory on GitHub.com)? \n",
    "\n",
    "This step is super quick and easy! All you need is to do is to type the following command into the terminal: `git push`.\n",
    "\n",
    "Note: You will then be prompted to enter your GitHub username and the personal access token that you generated earlier (**not your account password!**). \n",
    "\n"
   ]
  },
  {
   "cell_type": "markdown",
   "id": "94eb7385",
   "metadata": {},
   "source": [
    "<div class=\"alert alert-info\">\n",
    "    \n",
    "### Question 5\n",
    "    \n",
    "Go to your Github.com recipe folder and check again whether the changes you made in your `instructions.txt` file appear in your Github.com `recipe` folder?\n",
    "\n",
    "A) Yes, after `git push` I can see my changes in my remote repository  \n",
    "B) No, the changes do not appear in remote repository  \n",
    "    \n",
    "</div>\n",
    "\n",
    "_Points:_ 1"
   ]
  },
  {
   "cell_type": "code",
   "execution_count": 18,
   "id": "2082fa96",
   "metadata": {
    "tags": []
   },
   "outputs": [],
   "source": [
    "# Your answer should be a string with all the letters of the options you think are correct, e.g. 'AB'\n",
    "q5 = \"A\""
   ]
  },
  {
   "cell_type": "code",
   "execution_count": 19,
   "id": "940f4376",
   "metadata": {
    "deletable": false,
    "editable": false
   },
   "outputs": [
    {
     "data": {
      "text/html": [
       "<p><strong><pre style='display: inline;'>q5</pre></strong> passed! 🎉</p>"
      ],
      "text/plain": [
       "q5 results: All test cases passed!"
      ]
     },
     "execution_count": 19,
     "metadata": {},
     "output_type": "execute_result"
    }
   ],
   "source": [
    "grader.check(\"q5\")"
   ]
  },
  {
   "cell_type": "markdown",
   "id": "7c7fdbde",
   "metadata": {},
   "source": [
    "-----\n",
    "\n",
    "## Step 6. More Practice!\n",
    "\n",
    "So now once you have set up your GitHub repository let's practice the entire workflow again\n",
    "\n",
    "1. Let's modify the `instructions.txt` file by adding a title to your recipe (if you already have it: make a small change such as capitalizing the title differently or adding a word). Save the file.\n",
    "2. Use the terminal to stage and commit the changes (check the git status before staging, after staging and after committing to see what is going on in your repository). Make sure to write a good commit message.\n",
    "3. Push the changes to the remote repository\n",
    "\n"
   ]
  },
  {
   "cell_type": "markdown",
   "id": "d2e2a0ab",
   "metadata": {},
   "source": [
    "<div class=\"alert alert-info\">\n",
    "    \n",
    "### Question 6\n",
    "    \n",
    "After committing, check the `git status`. What does it tell you?\n",
    "\n",
    "A)\t`On branch main`  \n",
    "B)\t`Your branch is ahead of 'origin/main' by 1 commit.`  \n",
    "C)\t`(use \"git push\" to publish your local commits)`  \n",
    "D)\t`nothing to commit, working tree clean`  \n",
    "E)\t`1 file changed, ….`  \n",
    "    \n",
    "</div>\n",
    "\n",
    "_Points:_ 1"
   ]
  },
  {
   "cell_type": "code",
   "execution_count": 20,
   "id": "48e3b87b",
   "metadata": {
    "tags": []
   },
   "outputs": [],
   "source": [
    "# Your answer should be a string with all the letters of the options you think are correct, e.g. 'AB'\n",
    "q6 = \"ABCD\""
   ]
  },
  {
   "cell_type": "code",
   "execution_count": 21,
   "id": "7ddd14be",
   "metadata": {
    "deletable": false,
    "editable": false
   },
   "outputs": [
    {
     "data": {
      "text/html": [
       "<p><strong><pre style='display: inline;'>q6</pre></strong> passed! 💯</p>"
      ],
      "text/plain": [
       "q6 results: All test cases passed!"
      ]
     },
     "execution_count": 21,
     "metadata": {},
     "output_type": "execute_result"
    }
   ],
   "source": [
    "grader.check(\"q6\")"
   ]
  },
  {
   "cell_type": "markdown",
   "id": "86ecd278",
   "metadata": {},
   "source": [
    "----\n",
    "\n",
    "# Part III. From Web to your PC\n",
    "\n",
    "## Step 7. Modifying files on GitHub.com\n",
    "\n",
    "Previously we changed files in our local repository and pushed the changes to Github.com. However, we can also do the opposite: add/modify files in Github.com and add them to your local repository.\n",
    "\n",
    "1. Go to `recipe` repository on GitHub.com and let's modify the `README.md` file. To do it press on \"pen\" button located at the top right of the file\n",
    "<details><summary><b>Hint:</b></summary>\n",
    "<img src=\"images/Picture10.png\" width=80% >\n",
    "</details>\n",
    "\n",
    "\n",
    "`README.md` file is used to provide a description of what your reposiyory is about (check the https://github.com/python/typing as an example of what a `README.md` file can contain)\n",
    "\n",
    "\n",
    "\n",
    "\n"
   ]
  },
  {
   "cell_type": "markdown",
   "id": "a681cd5c",
   "metadata": {},
   "source": [
    "<div class=\"alert alert-info\">\n",
    "    \n",
    "### Question 7\n",
    "\n",
    "1. Edit the `README.md` file content: for instance, you can first give the name of your recipe as a title and then provide 2 sentences summary of what your recipe is about. Also, you can provide your name or to include a URL to the source of the recipe (if applicable)\n",
    "2. Once you are happy with your description write a comprehensive commit message and\n",
    "3. Press Commit a new file.\n",
    "\n",
    "What will be a better commit message when modifying a `README.md`?\n",
    "\n",
    "A)\tKeep a suggested message: \"Create README.md\"  \n",
    "B)\t\"Add some changes\"  \n",
    "C)\t\"Add short description of the recipe\"  \n",
    "D)\tLeave this part blank, this is not important  \n",
    "E)\tAny commit message is OK  \n",
    "    \n",
    "</div>\n",
    "\n",
    "_Points:_ 1"
   ]
  },
  {
   "cell_type": "code",
   "execution_count": 22,
   "id": "15420dce",
   "metadata": {
    "tags": []
   },
   "outputs": [],
   "source": [
    "# Your answer should be a string with all the letters of the options you think are correct, e.g. 'AB'\n",
    "q7 = \"C\""
   ]
  },
  {
   "cell_type": "code",
   "execution_count": 23,
   "id": "7eb982a0",
   "metadata": {
    "deletable": false,
    "editable": false
   },
   "outputs": [
    {
     "data": {
      "text/html": [
       "<p><strong><pre style='display: inline;'>q7</pre></strong> passed! 🍀</p>"
      ],
      "text/plain": [
       "q7 results: All test cases passed!"
      ]
     },
     "execution_count": 23,
     "metadata": {},
     "output_type": "execute_result"
    }
   ],
   "source": [
    "grader.check(\"q7\")"
   ]
  },
  {
   "cell_type": "markdown",
   "id": "60a58acf",
   "metadata": {},
   "source": [
    "-----\n",
    "\n",
    "## Step 8. Uploading existing files to GitHub\n",
    "\n",
    "We also can upload files using the `Add file` button:\n",
    "<details><summary><b>Hint:</b></summary>\n",
    "To find a Add file button you may need to go back to your repository's main page by clicking on the repository name located in the top left corner:<br>\n",
    "    <img src=\"images/Picture14.png\" width=20% ><br>\n",
    "</details> \n",
    "<img src=\"images/Picture12.png\" width=80% >\n",
    "\n",
    "1. Find a picture of your recipe from the web and upload it to your Github.com `recipe` repository. Please make sure you name your image `recipe.jpg` or `recipe.png`\n",
    "<details><summary><b>Hint:</b></summary>\n",
    "You first will need to find a photo on the web, save it to your PC (and rename it as recipe.png) and then upload it to the GitHub repository.\n",
    "</details>\n",
    "\n",
    "2. Once selected, you can now commit the changes by adding the commit message and pressing `Commit changes` \n",
    "<details><summary><b>Hint:</b></summary>\n",
    "<img src=\"images/Picture11.png\" width=80% >\n",
    "</details>\n",
    "\n"
   ]
  },
  {
   "cell_type": "markdown",
   "id": "bc8b1bcd",
   "metadata": {},
   "source": [
    "\n",
    "<div class=\"alert alert-info\">\n",
    "    \n",
    "### Question 8a\n",
    "\n",
    "What files can you see in your GitHub `recipe` directory? Select all the apply.\n",
    "\n",
    "A)\t`README.md`  \n",
    "B) `ingredients.md`  \n",
    "C)\t`instructions.txt`  \n",
    "D)\t`recipe.jpg` or `recipe.png`  \n",
    "\n",
    "</div>\n",
    "\n",
    "_Points:_ 1"
   ]
  },
  {
   "cell_type": "code",
   "execution_count": 24,
   "id": "c02ecba7",
   "metadata": {
    "tags": []
   },
   "outputs": [],
   "source": [
    "# Your answer should be a string with all the letters of the options you think are correct, e.g. 'AB'\n",
    "q8a = \"ACD\""
   ]
  },
  {
   "cell_type": "code",
   "execution_count": 25,
   "id": "8b7158e5",
   "metadata": {
    "deletable": false,
    "editable": false
   },
   "outputs": [
    {
     "data": {
      "text/html": [
       "<p><strong><pre style='display: inline;'>q8</pre></strong> passed! 🌈</p>"
      ],
      "text/plain": [
       "q8 results: All test cases passed!"
      ]
     },
     "execution_count": 25,
     "metadata": {},
     "output_type": "execute_result"
    }
   ],
   "source": [
    "grader.check(\"q8\")"
   ]
  },
  {
   "cell_type": "markdown",
   "id": "2215486a",
   "metadata": {},
   "source": [
    "\n",
    "<div class=\"alert alert-info\">\n",
    "    \n",
    "### Question 8b\n",
    "\n",
    "What files can you see in your local `recipe` directory (on your PC)? Select all the apply.\n",
    "\n",
    "A)\t`README.md`  \n",
    "B)\t`instructions.txt`  \n",
    "C)\t`recipe.jpg` or `recipe.png`  \n",
    "D)\t`.git/`  \n",
    "\n",
    "</div>\n",
    "\n",
    "_Points:_ 1"
   ]
  },
  {
   "cell_type": "code",
   "execution_count": 26,
   "id": "8b51eacd",
   "metadata": {
    "tags": []
   },
   "outputs": [],
   "source": [
    "# Your answer should be a string with all the letters of the options you think are correct, e.g. 'AB'\n",
    "q8b = \"ABD\""
   ]
  },
  {
   "cell_type": "code",
   "execution_count": 27,
   "id": "151aea05",
   "metadata": {
    "deletable": false,
    "editable": false
   },
   "outputs": [
    {
     "data": {
      "text/html": [
       "<p><strong><pre style='display: inline;'>8b</pre></strong> passed! 🙌</p>"
      ],
      "text/plain": [
       "8b results: All test cases passed!"
      ]
     },
     "execution_count": 27,
     "metadata": {},
     "output_type": "execute_result"
    }
   ],
   "source": [
    "grader.check(\"8b\")"
   ]
  },
  {
   "cell_type": "markdown",
   "id": "010df23f",
   "metadata": {},
   "source": [
    "-----\n",
    "\n",
    "## Step 9. Creating files on GitHub.com\n",
    "\n",
    "We also can create new files using the `Add file` button and choosing option `Create new file`.\n",
    "\n",
    "<details><summary><b>Hint:</b></summary>\n",
    "Press on `Add file` button and choose option `Create new file`<br>\n",
    "    <img src=\"images/Picture15.png\" width=70% >\n",
    "</details>\n",
    "</br>\n",
    "\n",
    "\n",
    "Create a `ingredients.md` and populate the file with the list of the ingredients that  is used in your recipe. Commit the changes.\n",
    "<details><summary><b>Hint:</b></summary>\n",
    "<img src=\"./images/Picture13.png\" width=80% >\n",
    "</details>\n",
    "\n"
   ]
  },
  {
   "cell_type": "markdown",
   "id": "299d266a",
   "metadata": {},
   "source": [
    "\n",
    "<div class=\"alert alert-info\">\n",
    "    \n",
    "### Question 9\n",
    "\n",
    "Go to your local `recipe` folder and check again whether the changes you made in your remote repository on Github.com `recipe` appear in your local folder?\n",
    "\n",
    "A) Yes, the changes in my remote repository also appeared in my local repository  \n",
    "B) No, the changes did not appear in my local repository\n",
    "\n",
    "</div>\n",
    "\n",
    "_Points:_ 1"
   ]
  },
  {
   "cell_type": "code",
   "execution_count": 28,
   "id": "29eb8c07",
   "metadata": {
    "tags": []
   },
   "outputs": [],
   "source": [
    "# Your answer should be a string with all the letters of the options you think are correct, e.g. 'AB'\n",
    "q9 = \"B\""
   ]
  },
  {
   "cell_type": "code",
   "execution_count": 29,
   "id": "5385e321",
   "metadata": {
    "deletable": false,
    "editable": false
   },
   "outputs": [
    {
     "data": {
      "text/html": [
       "<p><strong><pre style='display: inline;'>q9</pre></strong> passed! 🎉</p>"
      ],
      "text/plain": [
       "q9 results: All test cases passed!"
      ]
     },
     "execution_count": 29,
     "metadata": {},
     "output_type": "execute_result"
    }
   ],
   "source": [
    "grader.check(\"q9\")"
   ]
  },
  {
   "cell_type": "markdown",
   "id": "acd084c6",
   "metadata": {},
   "source": [
    "-----\n",
    "\n",
    "## Step 10.  Updating local repo\n",
    "\n",
    "The last step that is left to bring changes to your local `recipe` repository so you can have the most up-to date version! \n",
    "\n",
    "Again, with git it can be done in a single step by typing the `git pull` command in your terminal (Please note that you need to be inside the `recipe` directory on your computer for it to work!). \n",
    "\n"
   ]
  },
  {
   "cell_type": "markdown",
   "id": "6f66147c",
   "metadata": {},
   "source": [
    "\n",
    "<div class=\"alert alert-info\">\n",
    "    \n",
    "### Question 10\n",
    "\n",
    "After pulling the changes to your local repo. What files can you see in your `recipe` directory on your PC? Select all the apply.\n",
    "\n",
    "A)\t`README.md`    \n",
    "B)\t`instructions.txt`  \n",
    "C)\t`recipe.jpg` or `recipe.png`  \n",
    "D)\t`.git/`  \n",
    "E) `ingredients.md`  \n",
    "\n",
    "</div>\n",
    "\n",
    "_Points:_ 1"
   ]
  },
  {
   "cell_type": "code",
   "execution_count": 30,
   "id": "7399121f",
   "metadata": {
    "tags": []
   },
   "outputs": [],
   "source": [
    "# Your answer should be a string with all the letters of the options you think are correct, e.g. 'AB'\n",
    "q10 = \"ABCDE\""
   ]
  },
  {
   "cell_type": "code",
   "execution_count": 31,
   "id": "c75426ca",
   "metadata": {
    "deletable": false,
    "editable": false
   },
   "outputs": [
    {
     "data": {
      "text/html": [
       "<p><strong><pre style='display: inline;'>q10</pre></strong> passed! 🍀</p>"
      ],
      "text/plain": [
       "q10 results: All test cases passed!"
      ]
     },
     "execution_count": 31,
     "metadata": {},
     "output_type": "execute_result"
    }
   ],
   "source": [
    "grader.check(\"q10\")"
   ]
  },
  {
   "cell_type": "markdown",
   "id": "d899aa10",
   "metadata": {},
   "source": [
    "-----\n",
    "\n",
    "# Part IV. JupyterLab IDE\n",
    "\n",
    "\n",
    "Let's try similar workflow but using JupyterLab IDE. \n",
    "\n"
   ]
  },
  {
   "cell_type": "markdown",
   "id": "d6fc7132",
   "metadata": {},
   "source": [
    "\n",
    "<div class=\"alert alert-info\">\n",
    "    \n",
    "### Question 11a\n",
    "\n",
    "What is the order of steps that you should take when you want to continue working on the git project?\n",
    "\n",
    "A) `git push`  \n",
    "B) do the changes   \n",
    "C) `git pull`  \n",
    "D) `git commit`  \n",
    "E) `git add`  \n",
    "\n",
    "</div>\n",
    "\n",
    "_Points:_ 1"
   ]
  },
  {
   "cell_type": "code",
   "execution_count": 32,
   "id": "d6fc56c4",
   "metadata": {
    "tags": []
   },
   "outputs": [],
   "source": [
    "# Your response should be a sequence of 10 letters, in the order of the corresponding answer, e.g. 'ABCKCCCDFI'\n",
    "q11a = \"CBEDACBEDA\""
   ]
  },
  {
   "cell_type": "code",
   "execution_count": 33,
   "id": "dd430171",
   "metadata": {
    "deletable": false,
    "editable": false
   },
   "outputs": [
    {
     "data": {
      "text/html": [
       "<p><strong style='color: red;'><pre style='display: inline;'>q11a</pre> results:</strong></p><p><strong><pre style='display: inline;'>q11a - 1</pre> message:</strong> At least one of the options you have selected is not in correct order</p><p><strong><pre style='display: inline;'>q11a - 1</pre> result:</strong></p><pre>    ❌ Test case failed\n",
       "</pre>"
      ],
      "text/plain": [
       "q11a results:\n",
       "    q11a - 1 message: At least one of the options you have selected is not in correct order\n",
       "\n",
       "    q11a - 1 result:\n",
       "        ❌ Test case failed"
      ]
     },
     "execution_count": 33,
     "metadata": {},
     "output_type": "execute_result"
    }
   ],
   "source": [
    "grader.check(\"q11a\")"
   ]
  },
  {
   "cell_type": "markdown",
   "id": "2e12c1fc",
   "metadata": {},
   "source": [
    "\n",
    "<div class=\"alert alert-info\">\n",
    "    \n",
    "### Question 11b\n",
    "    \n",
    "Match the terminal commands from previous question to the analogous actions from Jupyter IDE:\n",
    "\n",
    "<img src=\"images/Picture17.png\" width=50% >\n",
    "    \n",
    "What will be the order of buttons you will press in order to perform the following commands:\n",
    "\n",
    "A) `git pull`\n",
    "B) `git add`\n",
    "C) `git commit`\n",
    "D) `git push`\n",
    "\n",
    "</div>\n",
    "\n",
    "_Points:_ 1"
   ]
  },
  {
   "cell_type": "code",
   "execution_count": 34,
   "id": "bca4f140",
   "metadata": {
    "tags": []
   },
   "outputs": [],
   "source": [
    "# Your response should be a sequence of 4 digits, in the order of the corresponding answer, e.g. '1234'\n",
    "q11b = \"1782\""
   ]
  },
  {
   "cell_type": "code",
   "execution_count": 35,
   "id": "2e41f513",
   "metadata": {
    "deletable": false,
    "editable": false
   },
   "outputs": [
    {
     "data": {
      "text/html": [
       "<p><strong><pre style='display: inline;'>q11b</pre></strong> passed! 💯</p>"
      ],
      "text/plain": [
       "q11b results: All test cases passed!"
      ]
     },
     "execution_count": 35,
     "metadata": {},
     "output_type": "execute_result"
    }
   ],
   "source": [
    "grader.check(\"q11b\")"
   ]
  },
  {
   "cell_type": "markdown",
   "id": "c4f6ab21",
   "metadata": {},
   "source": [
    "## Step 11. More Practice!\n",
    "\n",
    "Make any changes that you want to **one** of the `.md` files on your computer and perform the whole process using the JupyterLab IDE (i.e., steps from Question 11). \n",
    "\n",
    "To check whether your actions were successful, once you done check the `recipe` folder on GitHub.com, all the changes you did to this `.md` file should appear there \n",
    "\n",
    "<details><summary><b>Hint:</b></summary>\n",
    "Make sure that your commit messages are comprehensive!\n",
    "</details>"
   ]
  },
  {
   "cell_type": "markdown",
   "id": "14c6af38",
   "metadata": {},
   "source": [
    "<!-- BEGIN QUESTION -->\n",
    "\n",
    "<div class=\"alert alert-info\">\n",
    "    \n",
    "## Question 11c\n",
    "    \n",
    "Paste the url to you recipe repo on GitHub in the cell below. This question will be manually graded after submission and there is no automatic test to run.\n",
    "\n",
    "Your link should look like something like this: https://github.com/YOUR-USER-NAME/recipe\n",
    "    \n",
    "You will be marked on the following:\n",
    "    \n",
    "- Correct URL link is provided\n",
    "- All necessary files are present \n",
    "- Commit messages are comprehensive\n",
    "    \n",
    "</div>\n",
    "\n",
    "_Points:_ 3"
   ]
  },
  {
   "cell_type": "markdown",
   "id": "8919d9c8",
   "metadata": {},
   "source": [
    "https://github.com/wjura/recipe.git"
   ]
  },
  {
   "cell_type": "markdown",
   "id": "7415f013",
   "metadata": {},
   "source": [
    "<!-- END QUESTION -->\n",
    "\n",
    "<div class=\"alert alert-danger\" style=\"color:black\">\n",
    "    \n",
    "**Restart and run all before submitting**\n",
    "    \n",
    "Before submitting,\n",
    "don't forget to run all cells in your notebook\n",
    "to make sure there are no errors\n",
    "and so that the TAs can see the output of all the cells properly.\n",
    "You can do this by clicking the ▶▶ button\n",
    "or going to `Kernel -> Restart Kernel and Run All Cells...` in the menu.\n",
    "This is not only important for this course,\n",
    "but a good habit you should get into before ever committing a notebook to GitHub,\n",
    "so that your collaborators can run it from top to bottom\n",
    "without issues.\n",
    "</div>"
   ]
  },
  {
   "cell_type": "markdown",
   "id": "69a32293",
   "metadata": {},
   "source": [
    "------\n",
    "\n",
    "Assignment 3 completed, Congratulations! 🤩"
   ]
  },
  {
   "cell_type": "markdown",
   "id": "0745ed60",
   "metadata": {
    "deletable": false,
    "editable": false
   },
   "source": [
    "---\n",
    "\n",
    "To double-check your work, the cell below will rerun all of the autograder tests."
   ]
  },
  {
   "cell_type": "code",
   "execution_count": 36,
   "id": "d3925738",
   "metadata": {
    "deletable": false,
    "editable": false
   },
   "outputs": [
    {
     "data": {
      "text/plain": [
       "8b results: All test cases passed!\n",
       "\n",
       "q0 results: All test cases passed!\n",
       "\n",
       "q1 results: All test cases passed!\n",
       "\n",
       "q10 results: All test cases passed!\n",
       "\n",
       "q11a results:\n",
       "    q11a - 1 message: At least one of the options you have selected is not in correct order\n",
       "\n",
       "    q11a - 1 result:\n",
       "        ❌ Test case failed\n",
       "\n",
       "q11b results: All test cases passed!\n",
       "\n",
       "q2 results: All test cases passed!\n",
       "\n",
       "q3a results: All test cases passed!\n",
       "\n",
       "q3b results: All test cases passed!\n",
       "\n",
       "q4a results: All test cases passed!\n",
       "\n",
       "q4b results: All test cases passed!\n",
       "\n",
       "q4c results: All test cases passed!\n",
       "\n",
       "q5 results: All test cases passed!\n",
       "\n",
       "q6 results: All test cases passed!\n",
       "\n",
       "q7 results: All test cases passed!\n",
       "\n",
       "q8 results: All test cases passed!\n",
       "\n",
       "q9 results: All test cases passed!"
      ]
     },
     "execution_count": 36,
     "metadata": {},
     "output_type": "execute_result"
    }
   ],
   "source": [
    "grader.check_all()"
   ]
  },
  {
   "cell_type": "code",
   "execution_count": null,
   "id": "f336b265-b60e-4169-835b-c6027f224743",
   "metadata": {},
   "outputs": [],
   "source": []
  }
 ],
 "metadata": {
  "jupytext": {
   "cell_metadata_filter": "-all",
   "main_language": "python",
   "notebook_metadata_filter": "-all"
  },
  "kernelspec": {
   "display_name": "Python 3 (ipykernel)",
   "language": "python",
   "name": "python3"
  },
  "language_info": {
   "codemirror_mode": {
    "name": "ipython",
    "version": 3
   },
   "file_extension": ".py",
   "mimetype": "text/x-python",
   "name": "python",
   "nbconvert_exporter": "python",
   "pygments_lexer": "ipython3",
   "version": "3.10.9"
  },
  "otter": {
   "OK_FORMAT": true,
   "tests": {
    "8b": {
     "name": "8b",
     "points": 1,
     "suites": [
      {
       "cases": [
        {
         "code": ">>> assert 'a' in q8b.lower()\n>>> assert 'b' in q8b.lower()\n>>> assert 'd' in q8b.lower()\n",
         "failure_message": "You are missing one of the correct answers",
         "hidden": false,
         "locked": false
        },
        {
         "code": ">>> assert 'c' not in q8b.lower()\n>>> \n",
         "failure_message": "At least one of the options you have selected is not correct",
         "hidden": false,
         "locked": false
        }
       ],
       "scored": true,
       "setup": "",
       "teardown": "",
       "type": "doctest"
      }
     ]
    },
    "q0": {
     "name": "q0",
     "points": 1,
     "suites": [
      {
       "cases": [
        {
         "code": ">>> assert 'a' in q0.lower()\n>>> assert 'b' in q0.lower()\n>>> assert 'c' in q0.lower()\n>>> assert 'd' in q0.lower()\n>>> assert 'e' in q0.lower()\n>>> assert 'f' in q0.lower()\n",
         "failure_message": "You are missing one of the correct answers",
         "hidden": false,
         "locked": false
        },
        {
         "code": ">>> assert 'g' not in q0.lower()\n>>> \n",
         "failure_message": "At least one of the options you have selected is not correct",
         "hidden": false,
         "locked": false
        },
        {
         "code": ">>> \n>>> assert q0.upper() == 'ADFBCE'\n",
         "failure_message": "At least one of the options you have selected is not in correct order",
         "hidden": false,
         "locked": false
        }
       ],
       "scored": true,
       "setup": "",
       "teardown": "",
       "type": "doctest"
      }
     ]
    },
    "q1": {
     "name": "q1",
     "points": 1,
     "suites": [
      {
       "cases": [
        {
         "code": ">>> assert 'b' in q1.lower()\n>>> assert 'c' in q1.lower()\n",
         "failure_message": "You are missing one of the correct answers",
         "hidden": false,
         "locked": false
        },
        {
         "code": ">>> assert 'a' not in q1.lower()\n>>> \n",
         "failure_message": "At least one of the options you have selected is not correct",
         "hidden": false,
         "locked": false
        }
       ],
       "scored": true,
       "setup": "",
       "teardown": "",
       "type": "doctest"
      }
     ]
    },
    "q10": {
     "name": "q10",
     "points": 1,
     "suites": [
      {
       "cases": [
        {
         "code": ">>> assert 'a' in q10.lower()\n>>> assert 'b' in q10.lower()\n>>> assert 'c' in q10.lower()\n>>> assert 'd' in q10.lower()\n>>> assert 'e' in q10.lower()\n",
         "failure_message": "You are missing one of the correct answers",
         "hidden": false,
         "locked": false
        }
       ],
       "scored": true,
       "setup": "",
       "teardown": "",
       "type": "doctest"
      }
     ]
    },
    "q11a": {
     "name": "q11a",
     "points": 1,
     "suites": [
      {
       "cases": [
        {
         "code": ">>> \n>>> assert q11a.upper() == 'CBEDA'\n",
         "failure_message": "At least one of the options you have selected is not in correct order",
         "hidden": false,
         "locked": false
        }
       ],
       "scored": true,
       "setup": "",
       "teardown": "",
       "type": "doctest"
      }
     ]
    },
    "q11b": {
     "name": "q11b",
     "points": 1,
     "suites": [
      {
       "cases": [
        {
         "code": ">>> assert '1' in q11b.lower()\n>>> assert '2' in q11b.lower()\n>>> assert '7' in q11b.lower()\n>>> assert '8' in q11b.lower()\n",
         "failure_message": "You are missing one of the correct answers",
         "hidden": false,
         "locked": false
        },
        {
         "code": ">>> assert '3' not in q11b.lower()\n>>> assert '4' not in q11b.lower()\n>>> assert '5' not in q11b.lower()\n>>> assert '6' not in q11b.lower()\n",
         "failure_message": "At least one of the options you have selected is not correct",
         "hidden": false,
         "locked": false
        },
        {
         "code": ">>> \n>>> assert q11b.upper() == '1782'\n",
         "failure_message": "At least one of the options you have selected is not in correct order",
         "hidden": false,
         "locked": false
        }
       ],
       "scored": true,
       "setup": "",
       "teardown": "",
       "type": "doctest"
      }
     ]
    },
    "q2": {
     "name": "q2",
     "points": 1,
     "suites": [
      {
       "cases": [
        {
         "code": ">>> assert 'a' in q2.lower()\n>>> assert 'b' in q2.lower()\n>>> assert 'c' in q2.lower()\n",
         "failure_message": "You are missing one of the correct answers",
         "hidden": false,
         "locked": false
        },
        {
         "code": ">>> assert 'd' not in q2.lower()\n>>> assert 'e' not in q2.lower()\n>>> assert 'f' not in q2.lower()\n>>> assert 'g' not in q2.lower()\n",
         "failure_message": "At least one of the options you have selected is not correct",
         "hidden": false,
         "locked": false
        }
       ],
       "scored": true,
       "setup": "",
       "teardown": "",
       "type": "doctest"
      }
     ]
    },
    "q3a": {
     "name": "q3a",
     "points": 1,
     "suites": [
      {
       "cases": [
        {
         "code": ">>> assert 'c' == q3a.lower()\n>>> \n",
         "failure_message": "Your answer is incorrect or you are missing one of the correct answers",
         "hidden": false,
         "locked": false
        }
       ],
       "scored": true,
       "setup": "",
       "teardown": "",
       "type": "doctest"
      }
     ]
    },
    "q3b": {
     "name": "q3b",
     "points": 1,
     "suites": [
      {
       "cases": [
        {
         "code": ">>> assert 'a' in q3b.lower()\n>>> assert 'b' in q3b.lower()\n>>> assert 'e' in q3b.lower()\n>>> assert 'f' in q3b.lower()\n",
         "failure_message": "You are missing one of the correct answers",
         "hidden": false,
         "locked": false
        },
        {
         "code": ">>> assert 'c' not in q3b.lower()\n>>> assert 'd' not in q3b.lower()\n>>> \n",
         "failure_message": "At least one of the options you have selected is not correct",
         "hidden": false,
         "locked": false
        }
       ],
       "scored": true,
       "setup": "",
       "teardown": "",
       "type": "doctest"
      }
     ]
    },
    "q4a": {
     "name": "q4a",
     "points": 1,
     "suites": [
      {
       "cases": [
        {
         "code": ">>> assert 'a' in q4a.lower()\n>>> assert 'b' in q4a.lower()\n>>> assert 'e' in q4a.lower()\n",
         "failure_message": "You are missing one of the correct answers",
         "hidden": false,
         "locked": false
        },
        {
         "code": ">>> assert 'c' not in q4a.lower()\n>>> assert 'd' not in q4a.lower()\n>>> assert 'f' not in q4a.lower()\n",
         "failure_message": "At least one of the options you have selected is not correct",
         "hidden": false,
         "locked": false
        }
       ],
       "scored": true,
       "setup": "",
       "teardown": "",
       "type": "doctest"
      }
     ]
    },
    "q4b": {
     "name": "q4b",
     "points": 1,
     "suites": [
      {
       "cases": [
        {
         "code": ">>> assert 'd' in q4b.lower()\n>>> assert 'e' in q4b.lower()\n>>> assert 'g' in q4b.lower()\n",
         "failure_message": "You are missing one of the correct answers",
         "hidden": false,
         "locked": false
        },
        {
         "code": ">>> assert 'a' not in q4b.lower()\n>>> assert 'b' not in q4b.lower()\n>>> assert 'c' not in q4b.lower()\n>>> assert 'f' not in q4b.lower()\n",
         "failure_message": "At least one of the options you have selected is not correct",
         "hidden": false,
         "locked": false
        }
       ],
       "scored": true,
       "setup": "",
       "teardown": "",
       "type": "doctest"
      }
     ]
    },
    "q4c": {
     "name": "q4c",
     "points": 1,
     "suites": [
      {
       "cases": [
        {
         "code": ">>> assert 'b' == q4c.lower()\n",
         "failure_message": "Your answer is incorrect or you are missing one of the correct answers",
         "hidden": false,
         "locked": false
        }
       ],
       "scored": true,
       "setup": "",
       "teardown": "",
       "type": "doctest"
      }
     ]
    },
    "q5": {
     "name": "q5",
     "points": 1,
     "suites": [
      {
       "cases": [
        {
         "code": ">>> assert 'a' == q5.lower()\n",
         "failure_message": "Your answer is incorrect or you are missing one of the correct answers",
         "hidden": false,
         "locked": false
        }
       ],
       "scored": true,
       "setup": "",
       "teardown": "",
       "type": "doctest"
      }
     ]
    },
    "q6": {
     "name": "q6",
     "points": 1,
     "suites": [
      {
       "cases": [
        {
         "code": ">>> assert 'a' in q6.lower()\n>>> assert 'b' in q6.lower()\n>>> assert 'c' in q6.lower()\n>>> assert 'd' in q6.lower()\n",
         "failure_message": "You are missing one of the correct answers",
         "hidden": false,
         "locked": false
        },
        {
         "code": ">>> assert 'e' not in q6.lower()\n>>> \n",
         "failure_message": "At least one of the options you have selected is not correct",
         "hidden": false,
         "locked": false
        }
       ],
       "scored": true,
       "setup": "",
       "teardown": "",
       "type": "doctest"
      }
     ]
    },
    "q7": {
     "name": "q7",
     "points": 1,
     "suites": [
      {
       "cases": [
        {
         "code": ">>> assert 'c' == q7.lower()\n",
         "failure_message": "Your answer is incorrect or you are missing one of the correct answers",
         "hidden": false,
         "locked": false
        }
       ],
       "scored": true,
       "setup": "",
       "teardown": "",
       "type": "doctest"
      }
     ]
    },
    "q8": {
     "name": "q8",
     "points": 1,
     "suites": [
      {
       "cases": [
        {
         "code": ">>> assert 'a' in q8a.lower()\n>>> assert 'c' in q8a.lower()\n>>> assert 'd' in q8a.lower()\n",
         "failure_message": "You are missing one of the correct answers",
         "hidden": false,
         "locked": false
        },
        {
         "code": ">>> assert 'b' not in q8a.lower()\n>>> \n",
         "failure_message": "At least one of the options you have selected is not correct",
         "hidden": false,
         "locked": false
        }
       ],
       "scored": true,
       "setup": "",
       "teardown": "",
       "type": "doctest"
      }
     ]
    },
    "q9": {
     "name": "q9",
     "points": 1,
     "suites": [
      {
       "cases": [
        {
         "code": ">>> assert 'b' == q9.lower()\n",
         "failure_message": "Your answer is incorrect or you are missing one of the correct answers",
         "hidden": false,
         "locked": false
        }
       ],
       "scored": true,
       "setup": "",
       "teardown": "",
       "type": "doctest"
      }
     ]
    }
   }
  }
 },
 "nbformat": 4,
 "nbformat_minor": 5
}
